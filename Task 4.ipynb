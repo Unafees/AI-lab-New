{
 "cells": [
  {
   "cell_type": "code",
   "execution_count": 3,
   "metadata": {},
   "outputs": [
    {
     "name": "stdout",
     "output_type": "stream",
     "text": [
      "Go to doctor !!\n"
     ]
    }
   ],
   "source": [
    "MeharWeight = 50;\n",
    "HussamWeight = 72;\n",
    "SafiWeihgt = 60;\n",
    "\n",
    "MAge = 19;\n",
    "HAge = 22;\n",
    "SAge = 21;\n",
    "\n",
    "if MeharWeight > 65 and sAge >20:\n",
    "    print(\"join gym\");\n",
    "elif HussamWeight < 65 or (HAge < 30 and SAge > 18):\n",
    "    print(\"Go to doctor !!\");\n",
    "    "
   ]
  },
  {
   "cell_type": "code",
   "execution_count": null,
   "metadata": {},
   "outputs": [],
   "source": []
  }
 ],
 "metadata": {
  "kernelspec": {
   "display_name": "Python 3",
   "language": "python",
   "name": "python3"
  },
  "language_info": {
   "codemirror_mode": {
    "name": "ipython",
    "version": 3
   },
   "file_extension": ".py",
   "mimetype": "text/x-python",
   "name": "python",
   "nbconvert_exporter": "python",
   "pygments_lexer": "ipython3",
   "version": "3.6.5"
  }
 },
 "nbformat": 4,
 "nbformat_minor": 2
}
