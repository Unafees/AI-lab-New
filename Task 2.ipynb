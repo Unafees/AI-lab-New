{
 "cells": [
  {
   "cell_type": "code",
   "execution_count": 1,
   "metadata": {},
   "outputs": [
    {
     "name": "stdout",
     "output_type": "stream",
     "text": [
      "Nafees win !!\n"
     ]
    }
   ],
   "source": [
    "name1 = \"Nafees\";\n",
    "NafeesMarks =55;\n",
    "name2 = \"Anees\";\n",
    "AneesMarks = 75;\n",
    "\n",
    "if NafeesMarks == AneesMarks:\n",
    "    print(\"Draw !!\");\n",
    "\n",
    "elif NafeesMarks < AneesMarks:\n",
    "    print(str(name1) + \" win !!\");\n",
    "else:\n",
    "    print(str(name2) + \" win !!\");"
   ]
  },
  {
   "cell_type": "code",
   "execution_count": null,
   "metadata": {},
   "outputs": [],
   "source": []
  }
 ],
 "metadata": {
  "kernelspec": {
   "display_name": "Python 3",
   "language": "python",
   "name": "python3"
  },
  "language_info": {
   "codemirror_mode": {
    "name": "ipython",
    "version": 3
   },
   "file_extension": ".py",
   "mimetype": "text/x-python",
   "name": "python",
   "nbconvert_exporter": "python",
   "pygments_lexer": "ipython3",
   "version": "3.6.5"
  }
 },
 "nbformat": 4,
 "nbformat_minor": 2
}
